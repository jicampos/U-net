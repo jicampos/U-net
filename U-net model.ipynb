{
 "cells": [
  {
   "cell_type": "code",
   "execution_count": 4,
   "metadata": {},
   "outputs": [],
   "source": [
    "## import libraries\n",
    "import tensorflow as tf\n",
    "import random\n",
    "import numpy as np\n",
    "\n",
    "# warnings\n",
    "import warnings\n",
    "warnings.filterwarnings('ignore')\n",
    "\n",
    "from skimage.io import imread, imshow\n",
    "from skimage.transform import resize\n",
    "import matplotlib.pyplot as plt\n"
   ]
  },
  {
   "cell_type": "code",
   "execution_count": 5,
   "metadata": {},
   "outputs": [],
   "source": [
    "IMG_WIDTH = 128\n",
    "IMG_HEIGHT = 128\n",
    "IMG_CHANNELS = 3\n"
   ]
  },
  {
   "cell_type": "code",
   "execution_count": 6,
   "metadata": {},
   "outputs": [],
   "source": [
    "## Build the model\n",
    "\n",
    "inputs = tf.keras.layers.Input((IMG_WIDTH, IMG_HEIGHT, IMG_CHANNELS))\n",
    "\n",
    "s = tf.keras.layers.Lambda(lambda x: x/255)(inputs)\n",
    "\n",
    "# encoder\n",
    "c1 = tf.keras.layers.Conv2D(filters=16, kernel_size=(3, 3), \n",
    "                            activation='relu', kernel_initializer='he_normal', padding='same')(s)\n",
    "c1 = tf.keras.layers.Dropout(0.1)(c1)\n",
    "c1 = tf.keras.layers.Conv2D(filters=16, kernel_size=(3, 3), \n",
    "                            activation='relu', kernel_initializer='he_normal', padding='same')(c1)\n",
    "p1 = tf.keras.layers.MaxPool2D(pool_size=(2,2))(c1)\n",
    "\n",
    "c2 = tf.keras.layers.Conv2D(filters=32, kernel_size=(3, 3),\n",
    "                            activation='relu', kernel_initializer='he_normal', padding='same')(p1)\n",
    "c2 = tf.keras.layers.Dropout(0.1)(c2)\n",
    "c2 = tf.keras.layers.Conv2D(filters=32, kernel_size=(3, 3),\n",
    "                            activation='relu', kernel_initializer='he_normal', padding='same')(c2)\n",
    "p2 = tf.keras.layers.MaxPool2D(pool_size=(2,2))(c2)\n",
    "\n",
    "c3 = tf.keras.layers.Conv2D(filters=64, kernel_size=(3, 3),\n",
    "                            activation='relu', kernel_initializer='he_normal', padding='same')(p2)\n",
    "c3 = tf.keras.layers.Dropout(0.1)(c3)\n",
    "c3 = tf.keras.layers.Conv2D(filters=64, kernel_size=(3, 3), \n",
    "                            activation='relu', kernel_initializer='he_normal', padding='same')(c3)\n",
    "p3 = tf.keras.layers.MaxPool2D(pool_size=(2,2))(c3)\n",
    "\n",
    "c4 = tf.keras.layers.Conv2D(filters=128, kernel_size=(3, 3), \n",
    "                            activation='relu', kernel_initializer='he_normal', padding='same')(p3)\n",
    "c4 = tf.keras.layers.Dropout(0.1)(c4)\n",
    "c4 = tf.keras.layers.Conv2D(filters=128, kernel_size=(3, 3),\n",
    "                            activation='relu', kernel_initializer='he_normal', padding='same')(c4)\n",
    "p4 = tf.keras.layers.MaxPool2D(pool_size=(2,2))(c4)\n",
    "\n",
    "c5 = tf.keras.layers.Conv2D(filters=256, kernel_size=(3, 3), \n",
    "                            activation='relu', kernel_initializer='he_normal', padding='same')(p4)\n",
    "c5 = tf.keras.layers.Dropout(0.1)(c5)\n",
    "c5 = tf.keras.layers.Conv2D(filters=256, kernel_size=(3, 3),\n",
    "                            activation='relu', kernel_initializer='he_normal', padding='same')(c5)"
   ]
  },
  {
   "cell_type": "code",
   "execution_count": null,
   "metadata": {},
   "outputs": [],
   "source": []
  }
 ],
 "metadata": {
  "kernelspec": {
   "display_name": "Python 3",
   "language": "python",
   "name": "python3"
  },
  "language_info": {
   "codemirror_mode": {
    "name": "ipython",
    "version": 3
   },
   "file_extension": ".py",
   "mimetype": "text/x-python",
   "name": "python",
   "nbconvert_exporter": "python",
   "pygments_lexer": "ipython3",
   "version": "3.6.5"
  }
 },
 "nbformat": 4,
 "nbformat_minor": 2
}
